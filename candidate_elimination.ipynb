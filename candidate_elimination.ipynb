{
  "nbformat": 4,
  "nbformat_minor": 0,
  "metadata": {
    "colab": {
      "provenance": [],
      "authorship_tag": "ABX9TyM2P1C/6eB5wAWIO4DnMPBR",
      "include_colab_link": true
    },
    "kernelspec": {
      "name": "python3",
      "display_name": "Python 3"
    },
    "language_info": {
      "name": "python"
    }
  },
  "cells": [
    {
      "cell_type": "markdown",
      "metadata": {
        "id": "view-in-github",
        "colab_type": "text"
      },
      "source": [
        "<a href=\"https://colab.research.google.com/github/sanjaykurakul/MachineLearning_/blob/main/candidate_elimination.ipynb\" target=\"_parent\"><img src=\"https://colab.research.google.com/assets/colab-badge.svg\" alt=\"Open In Colab\"/></a>"
      ]
    },
    {
      "cell_type": "code",
      "execution_count": 1,
      "metadata": {
        "colab": {
          "base_uri": "https://localhost:8080/"
        },
        "id": "M4g6B6czFizN",
        "outputId": "b1551348-6138-40e2-a361-c1da7558ad7d"
      },
      "outputs": [
        {
          "output_type": "stream",
          "name": "stdout",
          "text": [
            "Final Specific Hypothesis (S): ['Sunny', 'Warm', '?', 'Strong', '?', '?']\n",
            "Final General Hypotheses (G): [['Sunny', '?', '?', '?', '?', '?'], ['?', 'Warm', '?', '?', '?', '?']]\n"
          ]
        }
      ],
      "source": [
        "import pandas as pd\n",
        "\n",
        "def is_consistent(hypothesis, instance):\n",
        "    for h, x in zip(hypothesis, instance):\n",
        "        if h != '?' and h != x:\n",
        "            return False\n",
        "    return True\n",
        "\n",
        "def candidate_elimination(data):\n",
        "    n_features = len(data[0]) - 1\n",
        "    S = ['Ø'] * n_features  # Most specific hypothesis\n",
        "    G = [['?'] * n_features]  # Most general hypothesis\n",
        "\n",
        "    for row in data:\n",
        "        instance, label = row[:-1], row[-1]\n",
        "        if str(label).lower() == 'yes':\n",
        "            # Remove inconsistent general hypotheses\n",
        "            G = [g for g in G if is_consistent(g, instance)]\n",
        "\n",
        "            # Update specific hypothesis S\n",
        "            for i in range(n_features):\n",
        "                if S[i] == 'Ø':\n",
        "                    S[i] = instance[i]\n",
        "                elif S[i] != instance[i]:\n",
        "                    S[i] = '?'\n",
        "\n",
        "        elif str(label).lower() == 'no':\n",
        "            G_new = []\n",
        "            for g in G:\n",
        "                for i in range(n_features):\n",
        "                    if g[i] == '?':\n",
        "                        if S[i] != '?':\n",
        "                            new_g = g.copy()\n",
        "                            new_g[i] = S[i]\n",
        "                            if is_consistent(new_g, instance) == False:\n",
        "                                G_new.append(new_g)\n",
        "            G = G_new\n",
        "\n",
        "    return S, G\n",
        "\n",
        "df =  [\n",
        "    ['Sunny', 'Warm', 'Normal', 'Strong', 'Warm', 'Same', 'Yes'],\n",
        "    ['Sunny', 'Warm', 'High', 'Strong', 'Warm', 'Same', 'Yes'],\n",
        "    ['Rainy', 'Cold', 'High', 'Strong', 'Warm', 'Change', 'No'],\n",
        "    ['Sunny', 'Warm', 'High', 'Strong', 'Cool', 'Change', 'Yes']\n",
        "]\n",
        "S_final, G_final = candidate_elimination(df)\n",
        "\n",
        "print(\"Final Specific Hypothesis (S):\", S_final)\n",
        "print(\"Final General Hypotheses (G):\", G_final)"
      ]
    }
  ]
}