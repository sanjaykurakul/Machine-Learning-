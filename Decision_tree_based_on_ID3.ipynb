{
  "cells": [
    {
      "cell_type": "markdown",
      "metadata": {
        "id": "view-in-github",
        "colab_type": "text"
      },
      "source": [
        "<a href=\"https://colab.research.google.com/github/sanjaykurakul/MachineLearning_/blob/main/Decision_tree_based_on_ID3.ipynb\" target=\"_parent\"><img src=\"https://colab.research.google.com/assets/colab-badge.svg\" alt=\"Open In Colab\"/></a>"
      ]
    },
    {
      "cell_type": "code",
      "source": [
        "import pandas as pd, math\n",
        "from collections import Counter\n",
        "\n",
        "data = pd.read_csv(\"/content/play_tennis.csv\")\n",
        "\n",
        "def entropy(col):\n",
        "    c, t = Counter(col), len(col)\n",
        "    return -sum((v/t)*math.log2(v/t) for v in c.values())\n",
        "\n",
        "def info_gain(df, attr, target):\n",
        "    t_entropy = entropy(df[target])\n",
        "    w_entropy = sum((len(sub)/len(df))*entropy(sub[target]) for _, sub in df.groupby(attr))\n",
        "    return t_entropy - w_entropy\n",
        "\n",
        "def id3(df, target, attrs):\n",
        "    if len(set(df[target])) == 1: return df[target].iloc[0]\n",
        "    if not attrs: return Counter(df[target]).most_common(1)[0][0]\n",
        "    best = max(attrs, key=lambda a: info_gain(df, a, target))\n",
        "    tree = {best: {}}\n",
        "    for v, sub in df.groupby(best):\n",
        "        tree[best][v] = id3(sub, target, [a for a in attrs if a != best])\n",
        "    return tree\n",
        "\n",
        "def predict(tree, sample):\n",
        "    if not isinstance(tree, dict): return tree\n",
        "    root = next(iter(tree))\n",
        "    return predict(tree[root].get(sample.get(root), \"Unknown\"), sample)\n",
        "\n",
        "attrs = [c for c in data.columns if c != \"play\"]\n",
        "tree = id3(data, \"play\", attrs)\n",
        "print(\"Decision Tree:\", tree)\n",
        "\n",
        "sample = {\"Outlook\": \"Sunny\",\"Temperature\":\"Cool\",\"Humidity\":\"High\",\"Wind\":\"Strong\"}\n",
        "print(\"Classification:\", predict(tree, sample))\n",
        "\n",
        "\n",
        "\n",
        "\n",
        "\n",
        "\n",
        "#Input :Outlook,Temperature,Humidity,Wind,PlayTennis\n",
        "#Sunny,Hot,High,Weak,No\n",
        "#Sunny,Hot,High,Strong,No\n",
        "#Overcast,Hot,High,Weak,Yes\n",
        "#Rain,Mild,High,Weak,Yes\n",
        "#Rain,Cool,Normal,Weak,Yes\n",
        "#Rain,Cool,Normal,Strong,No\n",
        "#Overcast,Cool,Normal,Strong,Yes\n",
        "#Sunny,Mild,High,Weak,No\n",
        "#Sunny,Cool,Normal,Weak,Yes\n",
        "#Rain,Mild,Normal,Weak,Yes\n",
        "#Sunny,Mild,Normal,Strong,Yes\n",
        "#Overcast,Mild,High,Strong,Yes\n",
        "#Overcast,Hot,Normal,Weak,Yes\n",
        "#Rain,Mild,High,Strong,No"
      ],
      "metadata": {
        "colab": {
          "base_uri": "https://localhost:8080/"
        },
        "id": "N6Hl-dGTSXf3",
        "outputId": "2e764462-7637-4f4c-c115-e2791ee41065"
      },
      "execution_count": 6,
      "outputs": [
        {
          "output_type": "stream",
          "name": "stdout",
          "text": [
            "Decision Tree: {'day': {'D1': 'No', 'D10': 'Yes', 'D11': 'Yes', 'D12': 'Yes', 'D13': 'Yes', 'D14': 'No', 'D2': 'No', 'D3': 'Yes', 'D4': 'Yes', 'D5': 'Yes', 'D6': 'No', 'D7': 'Yes', 'D8': 'No', 'D9': 'Yes'}}\n",
            "Classification: Unknown\n"
          ]
        }
      ]
    }
  ],
  "metadata": {
    "colab": {
      "name": "Welcome to Colab",
      "provenance": [],
      "include_colab_link": true
    },
    "kernelspec": {
      "display_name": "Python 3",
      "name": "python3"
    }
  },
  "nbformat": 4,
  "nbformat_minor": 0
}