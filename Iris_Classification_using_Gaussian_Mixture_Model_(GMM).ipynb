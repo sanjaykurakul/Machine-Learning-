{
  "nbformat": 4,
  "nbformat_minor": 0,
  "metadata": {
    "colab": {
      "provenance": [],
      "authorship_tag": "ABX9TyMcHXAgFba1NafoQA8zqu7T",
      "include_colab_link": true
    },
    "kernelspec": {
      "name": "python3",
      "display_name": "Python 3"
    },
    "language_info": {
      "name": "python"
    }
  },
  "cells": [
    {
      "cell_type": "markdown",
      "metadata": {
        "id": "view-in-github",
        "colab_type": "text"
      },
      "source": [
        "<a href=\"https://colab.research.google.com/github/sanjaykurakul/Machine-Learning-/blob/main/Iris_Classification_using_Gaussian_Mixture_Model_(GMM).ipynb\" target=\"_parent\"><img src=\"https://colab.research.google.com/assets/colab-badge.svg\" alt=\"Open In Colab\"/></a>"
      ]
    },
    {
      "cell_type": "code",
      "execution_count": 3,
      "metadata": {
        "colab": {
          "base_uri": "https://localhost:8080/"
        },
        "id": "e1_ZoqWd55G0",
        "outputId": "a55f0160-b957-430a-dcf3-8f67e6f7cf48"
      },
      "outputs": [
        {
          "output_type": "stream",
          "name": "stdout",
          "text": [
            "Accuracy of GMM classifier: 97.37%\n"
          ]
        }
      ],
      "source": [
        "from sklearn.mixture import GaussianMixture\n",
        "from sklearn.datasets import load_iris\n",
        "from sklearn.model_selection import train_test_split\n",
        "from sklearn.metrics import accuracy_score\n",
        "from sklearn.preprocessing import StandardScaler\n",
        "import numpy as np\n",
        "from scipy.stats import mode\n",
        "\n",
        "data = load_iris()\n",
        "X = data.data\n",
        "y_true=data.target\n",
        "\n",
        "scaler = StandardScaler()\n",
        "X_scaled = scaler.fit_transform(X)\n",
        "\n",
        "X_train, X_test, y_train, y_test = train_test_split(X_scaled, y_true, random_state=42)\n",
        "\n",
        "gmm = GaussianMixture(n_components=3, random_state=42)\n",
        "gmm.fit(X_train)\n",
        "y_pred = gmm.predict(X_test)\n",
        "\n",
        "def match_labels(y_true, y_pred):\n",
        "    y_pred_matched = np.zeros_like(y_pred)\n",
        "    for i in np.unique(y_pred):\n",
        "        match = mode(y_true[y_pred == i], keepdims=False)[0]\n",
        "        y_pred_matched[y_pred == i] = match\n",
        "    return y_pred_matched\n",
        "\n",
        "y_pred_matched = match_labels(y_test, y_pred)\n",
        "accuracy = accuracy_score(y_test, y_pred_matched)\n",
        "print(f\"Accuracy of GMM classifier: {accuracy*100:.2f}%\")"
      ]
    }
  ]
}