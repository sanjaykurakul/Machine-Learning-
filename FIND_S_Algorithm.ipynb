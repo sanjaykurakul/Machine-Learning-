{
  "cells": [
    {
      "cell_type": "markdown",
      "metadata": {
        "id": "view-in-github",
        "colab_type": "text"
      },
      "source": [
        "<a href=\"https://colab.research.google.com/github/sanjaykurakul/Machine-Learning-/blob/main/FIND_S_Algorithm.ipynb\" target=\"_parent\"><img src=\"https://colab.research.google.com/assets/colab-badge.svg\" alt=\"Open In Colab\"/></a>"
      ]
    },
    {
      "cell_type": "code",
      "source": [
        "import pandas as pd\n",
        "\n",
        "def train_find_s(concepts, target):\n",
        "    hypothesis = ['0'] * len(concepts[0])\n",
        "\n",
        "    for i, val in enumerate(target):\n",
        "        if val.lower() == 'yes':\n",
        "            hypothesis = concepts[i].copy()\n",
        "            break\n",
        "\n",
        "    for i, val in enumerate(concepts):\n",
        "        if target[i].lower() == 'yes':\n",
        "            for attr in range(len(hypothesis)):\n",
        "                if val[attr] != hypothesis[attr]:\n",
        "                    hypothesis[attr] = '?'\n",
        "\n",
        "    return hypothesis\n",
        "\n",
        "concepts = [\n",
        "    ['Sunny', 'Warm', 'Normal', 'Strong', 'Warm', 'Same'],\n",
        "    ['Sunny', 'Warm', 'High',   'Strong', 'Warm', 'Same'],\n",
        "    ['Rainy', 'Cold', 'High',   'Strong', 'Warm', 'Change'],\n",
        "    ['Sunny', 'Warm', 'High',   'Strong', 'Cool', 'Change']\n",
        "]\n",
        "\n",
        "target = ['Yes', 'Yes', 'No', 'Yes']\n",
        "\n",
        "\n",
        "final_hypothesis = train_find_s(concepts, target)\n",
        "print(\"Final Hypothesis:\", final_hypothesis)"
      ],
      "metadata": {
        "colab": {
          "base_uri": "https://localhost:8080/"
        },
        "id": "HZon5lp7qjsD",
        "outputId": "6148fcf7-8ed9-4e51-b240-c33c654f19b2"
      },
      "execution_count": null,
      "outputs": [
        {
          "output_type": "stream",
          "name": "stdout",
          "text": [
            "Final Hypothesis: ['Sunny', 'Warm', '?', 'Strong', '?', '?']\n"
          ]
        }
      ]
    },
    {
      "cell_type": "code",
      "source": [
        "\n",
        "import pandas as pd\n",
        "\n",
        "def train_find_s(concepts, target):\n",
        "    hypothesis = ['0'] * len(concepts.columns)\n",
        "\n",
        "    for i, val in enumerate(target):\n",
        "        if val.lower() == 'yes':\n",
        "            hypothesis = concepts.iloc[i].tolist()\n",
        "            break\n",
        "\n",
        "    for i, val in concepts.iterrows():\n",
        "        if target[i].lower() == 'yes':\n",
        "            for attr in range(len(hypothesis)):\n",
        "                if val[attr] != hypothesis[attr]:\n",
        "                    hypothesis[attr] = '?'\n",
        "\n",
        "    return hypothesis\n",
        "\n",
        "df = pd.read_csv('data.csv')\n",
        "\n",
        "concepts = df.iloc[:, :-1]\n",
        "target = df.iloc[:, -1]\n",
        "\n",
        "final_hypothesis = train_find_s(concepts, target)\n",
        "print(\"Final Hypothesis:\", final_hypothesis)\n"
      ],
      "metadata": {
        "colab": {
          "base_uri": "https://localhost:8080/"
        },
        "id": "Bzbl40fRtoNr",
        "outputId": "1b760853-0234-49bb-b82e-f596e170226f"
      },
      "execution_count": null,
      "outputs": [
        {
          "output_type": "stream",
          "name": "stdout",
          "text": [
            "Final Hypothesis: ['Sunny', 'Warm', '?', 'Strong', 'Warm', 'Same']\n"
          ]
        },
        {
          "output_type": "stream",
          "name": "stderr",
          "text": [
            "/tmp/ipython-input-2296159839.py:14: FutureWarning: Series.__getitem__ treating keys as positions is deprecated. In a future version, integer keys will always be treated as labels (consistent with DataFrame behavior). To access a value by position, use `ser.iloc[pos]`\n",
            "  if val[attr] != hypothesis[attr]:\n"
          ]
        }
      ]
    }
  ],
  "metadata": {
    "colab": {
      "provenance": [],
      "include_colab_link": true
    },
    "kernelspec": {
      "display_name": "Python 3",
      "name": "python3"
    }
  },
  "nbformat": 4,
  "nbformat_minor": 0
}