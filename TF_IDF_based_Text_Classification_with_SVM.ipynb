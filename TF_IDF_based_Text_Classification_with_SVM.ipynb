{
  "nbformat": 4,
  "nbformat_minor": 0,
  "metadata": {
    "colab": {
      "provenance": [],
      "authorship_tag": "ABX9TyOffGZyP1geeA5jvyLDph32",
      "include_colab_link": true
    },
    "kernelspec": {
      "name": "python3",
      "display_name": "Python 3"
    },
    "language_info": {
      "name": "python"
    }
  },
  "cells": [
    {
      "cell_type": "markdown",
      "metadata": {
        "id": "view-in-github",
        "colab_type": "text"
      },
      "source": [
        "<a href=\"https://colab.research.google.com/github/sanjaykurakul/Machine-Learning-/blob/main/TF_IDF_based_Text_Classification_with_SVM.ipynb\" target=\"_parent\"><img src=\"https://colab.research.google.com/assets/colab-badge.svg\" alt=\"Open In Colab\"/></a>"
      ]
    },
    {
      "cell_type": "code",
      "execution_count": 1,
      "metadata": {
        "colab": {
          "base_uri": "https://localhost:8080/"
        },
        "id": "kslyrteY-biK",
        "outputId": "c5b2e1e2-5de8-4957-d753-96860d664e39"
      },
      "outputs": [
        {
          "output_type": "stream",
          "name": "stdout",
          "text": [
            "Accuracy: 1.0\n",
            "Precision: 1.0\n",
            "Recall: 1.0\n",
            "F1 Score: 1.0\n",
            "Actual labels [1, 0]\n",
            "Predicted labels [1 0]\n"
          ]
        }
      ],
      "source": [
        "from sklearn.feature_extraction.text import TfidfVectorizer\n",
        "from sklearn.model_selection import train_test_split\n",
        "from sklearn.svm import SVC\n",
        "from sklearn.metrics import accuracy_score,precision_score,recall_score,f1_score\n",
        "\n",
        "docs = [\n",
        "    \"Machine Learning improves Artificial Intelligence\",\n",
        "    \"Football is a popular Outdoor Sport\",\n",
        "    \"Deep Learning is a Branch of Machine Learning\",\n",
        "    \"Cricket is a Land Loved by Many People\",\n",
        "    \"Neural Networks help in AI Appllications\",\n",
        "    \"Tennis is a Olympic Sport\"\n",
        "]\n",
        "\n",
        "labels = [1,0,1,0,1,0]\n",
        "vectorizer = TfidfVectorizer()\n",
        "x = vectorizer.fit_transform(docs)\n",
        "x_train,x_test,y_train,y_test = train_test_split(x,labels,test_size=0.3,random_state=42)\n",
        "model = SVC()\n",
        "model.fit(x_train,y_train)\n",
        "y_pred = model.predict(x_test)\n",
        "print(\"Accuracy:\",accuracy_score(y_test,y_pred))\n",
        "print(\"Precision:\",precision_score(y_test,y_pred))\n",
        "print(\"Recall:\",recall_score(y_test,y_pred))\n",
        "print(\"F1 Score:\",f1_score(y_test,y_pred))\n",
        "print(\"Actual labels\",y_test)\n",
        "print(\"Predicted labels\",y_pred)"
      ]
    }
  ]
}