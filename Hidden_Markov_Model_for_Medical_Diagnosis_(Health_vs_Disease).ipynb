{
  "nbformat": 4,
  "nbformat_minor": 0,
  "metadata": {
    "colab": {
      "provenance": [],
      "authorship_tag": "ABX9TyPfXm3MTUO0CearPlhaqEDb",
      "include_colab_link": true
    },
    "kernelspec": {
      "name": "python3",
      "display_name": "Python 3"
    },
    "language_info": {
      "name": "python"
    }
  },
  "cells": [
    {
      "cell_type": "markdown",
      "metadata": {
        "id": "view-in-github",
        "colab_type": "text"
      },
      "source": [
        "<a href=\"https://colab.research.google.com/github/sanjaykurakul/Machine-Learning-/blob/main/Hidden_Markov_Model_for_Medical_Diagnosis_(Health_vs_Disease).ipynb\" target=\"_parent\"><img src=\"https://colab.research.google.com/assets/colab-badge.svg\" alt=\"Open In Colab\"/></a>"
      ]
    },
    {
      "cell_type": "code",
      "execution_count": 1,
      "metadata": {
        "colab": {
          "base_uri": "https://localhost:8080/"
        },
        "id": "2jwnivtQ_OFe",
        "outputId": "db67c6fa-e1ed-4ce4-9131-514c50163e93"
      },
      "outputs": [
        {
          "output_type": "stream",
          "name": "stdout",
          "text": [
            "Collecting hmmlearn\n",
            "  Downloading hmmlearn-0.3.3-cp312-cp312-manylinux_2_17_x86_64.manylinux2014_x86_64.whl.metadata (3.0 kB)\n",
            "Requirement already satisfied: numpy>=1.10 in /usr/local/lib/python3.12/dist-packages (from hmmlearn) (2.0.2)\n",
            "Requirement already satisfied: scikit-learn!=0.22.0,>=0.16 in /usr/local/lib/python3.12/dist-packages (from hmmlearn) (1.6.1)\n",
            "Requirement already satisfied: scipy>=0.19 in /usr/local/lib/python3.12/dist-packages (from hmmlearn) (1.16.1)\n",
            "Requirement already satisfied: joblib>=1.2.0 in /usr/local/lib/python3.12/dist-packages (from scikit-learn!=0.22.0,>=0.16->hmmlearn) (1.5.2)\n",
            "Requirement already satisfied: threadpoolctl>=3.1.0 in /usr/local/lib/python3.12/dist-packages (from scikit-learn!=0.22.0,>=0.16->hmmlearn) (3.6.0)\n",
            "Downloading hmmlearn-0.3.3-cp312-cp312-manylinux_2_17_x86_64.manylinux2014_x86_64.whl (165 kB)\n",
            "\u001b[2K   \u001b[90m━━━━━━━━━━━━━━━━━━━━━━━━━━━━━━━━━━━━━━━━\u001b[0m \u001b[32m166.0/166.0 kB\u001b[0m \u001b[31m2.8 MB/s\u001b[0m eta \u001b[36m0:00:00\u001b[0m\n",
            "\u001b[?25hInstalling collected packages: hmmlearn\n",
            "Successfully installed hmmlearn-0.3.3\n",
            "Hidden markov model(medical)Results\n",
            "Accuracy: 0.93\n",
            "precision: 0.8529411764705882\n",
            "Recall: 0.9354838709677419\n",
            "\n",
            " Classification Report:\n",
            "               precision    recall  f1-score   support\n",
            "\n",
            "      Health       0.97      0.93      0.95        69\n",
            "     Disease       0.85      0.94      0.89        31\n",
            "\n",
            "    accuracy                           0.93       100\n",
            "   macro avg       0.91      0.93      0.92       100\n",
            "weighted avg       0.93      0.93      0.93       100\n",
            "\n",
            "\n",
            " Sample Diagnosis:\n",
            "symptom: Normal  | True state: Health  | Predicted: Health \n",
            "symptom: Normal  | True state: Health  | Predicted: Health \n",
            "symptom: mild    | True state: Health  | Predicted: Health \n",
            "symptom: Normal  | True state: Health  | Predicted: Health \n",
            "symptom: Normal  | True state: Health  | Predicted: Health \n",
            "symptom: Normal  | True state: Health  | Predicted: Health \n",
            "symptom: mild    | True state: Disease | Predicted: Disease\n",
            "symptom: severe  | True state: Disease | Predicted: Disease\n",
            "symptom: severe  | True state: Disease | Predicted: Disease\n",
            "symptom: mild    | True state: Disease | Predicted: Disease\n"
          ]
        }
      ],
      "source": [
        "!pip install hmmlearn\n",
        "import numpy as np\n",
        "from hmmlearn import hmm\n",
        "from sklearn.metrics import accuracy_score, precision_score, recall_score, classification_report\n",
        "\n",
        "states = [\"Health\", \"Disease\"]\n",
        "n_states = len(states)\n",
        "observations = [\"Normal\", \"mild\", \"severe\"]\n",
        "n_observations = len(observations)\n",
        "\n",
        "start_prob = np.array([0.7, 0.3])\n",
        "trans_prob = np.array([\n",
        "    [0.85, 0.15],\n",
        "    [0.25, 0.75]\n",
        "])\n",
        "emission_prob = np.array([\n",
        "    [0.85, 0.12, 0.03],\n",
        "    [0.05, 0.35, 0.60]\n",
        "])\n",
        "\n",
        "model = hmm.CategoricalHMM(n_components=n_states, init_params=\"\")\n",
        "model.startprob_ = start_prob\n",
        "model.transmat_ = trans_prob\n",
        "model.emissionprob_ = emission_prob\n",
        "\n",
        "X, Z = model.sample(100)\n",
        "y_true = Z.ravel()\n",
        "y_obs = X.ravel()\n",
        "\n",
        "logprob, y_pred = model.decode(X.reshape(-1, 1), algorithm=\"viterbi\")\n",
        "\n",
        "accuracy = accuracy_score(y_true, y_pred)\n",
        "precision = precision_score(y_true, y_pred, average='binary')\n",
        "recall = recall_score(y_true, y_pred, average='binary')\n",
        "\n",
        "print(\"Hidden markov model(medical)Results\")\n",
        "print(\"Accuracy:\", accuracy)\n",
        "print(\"precision:\", precision)\n",
        "print(\"Recall:\", recall)\n",
        "print(\"\\n Classification Report:\\n\", classification_report(y_true, y_pred, target_names=states))\n",
        "\n",
        "print(\"\\n Sample Diagnosis:\")\n",
        "for i in range(10):\n",
        "  print(f\"symptom: {observations[y_obs[i]]:7} | True state: {states[y_true[i]]:7} | Predicted: {states[y_pred[i]]:7}\")"
      ]
    }
  ]
}